{
 "cells": [
  {
   "cell_type": "code",
   "execution_count": 1,
   "id": "d0c67c94",
   "metadata": {},
   "outputs": [],
   "source": [
    "import numpy as np\n",
    "import pandas as pd "
   ]
  },
  {
   "cell_type": "code",
   "execution_count": 7,
   "id": "0d24f50c",
   "metadata": {},
   "outputs": [
    {
     "name": "stdout",
     "output_type": "stream",
     "text": [
      "Solution 1 : \n",
      "İstanbul    15.4\n",
      "İzmir        4.3\n",
      "Ankara       5.6\n",
      "Bursa        3.0\n",
      "dtype: float64\n",
      "             \n",
      "Solution 2 : \n",
      "İstanbul    15.4\n",
      "İzmir        4.3\n",
      "Ankara       5.6\n",
      "Bursa        3.0\n",
      "dtype: float64\n"
     ]
    }
   ],
   "source": [
    "# Soru 1: \n",
    "# İstanbul 15.4 , İzmir 4.3 , Ankara 5.6 , Bursa 3 Şeklinde Seri Oluşturun, Hem Liste Göndererek Hem De Dictionary\n",
    "# Göndererek Yapın.\n",
    "\n",
    "print(\"Solution 1 : \")\n",
    "myCities = [\"İstanbul\", \"İzmir\", \"Ankara\", \"Bursa\"]\n",
    "myIndexes = [15.4, 4.3, 5.6, 3]\n",
    "print(pd.Series(myIndexes, myCities))\n",
    "print(\"             \")\n",
    "print(\"Solution 2 : \")\n",
    "myDict = {\"İstanbul\" : 15.4, \"İzmir\" : 4.3, \"Ankara\" : 5.6, \"Bursa\" : 3}\n",
    "print(pd.Series(data = myDict))"
   ]
  },
  {
   "cell_type": "code",
   "execution_count": 9,
   "id": "ab354bcf",
   "metadata": {},
   "outputs": [
    {
     "name": "stdout",
     "output_type": "stream",
     "text": [
      "Fenerbahçe     206\n",
      "Galatasaray    212\n",
      "Beşiktaş       191\n",
      "Trabzonspor    193\n",
      "dtype: int64\n"
     ]
    }
   ],
   "source": [
    "# Soru 2: \n",
    "# Fenerbahçe 51, Galatasaray 60, Beşiktaş 48, Trabzonspor 41 Şeklinde league_2022 Adında Bir Seri Oluşturun.\n",
    "# Fenerbahçe 73, Galatasaray 68, Beşiktaş 59, Trabzonspor 81 Şeklinde league_2021 Adında Bir Seri Oluşturun.\n",
    "# Fenerbahçe 82, Galatasaray 84, Beşiktaş 84, Trabzonspor 71 Şeklinde league_2020 Adında Bir Seri Oluşturun.\n",
    "# Bu 4 Takımın Son 3 Yılda Topladığı Puanları Karşılaştırabileceğimiz Yeni Bir Seri Oluşturun.\n",
    "\n",
    "l1 = {\"Fenerbahçe\" : 51, \"Galatasaray\" : 60, \"Beşiktaş\" : 48, \"Trabzonspor\" : 41}\n",
    "l2 = {\"Fenerbahçe\" : 73, \"Galatasaray\" : 68, \"Beşiktaş\" : 59, \"Trabzonspor\" : 81}\n",
    "l3 = {\"Fenerbahçe\" : 82, \"Galatasaray\" : 84, \"Beşiktaş\" : 84, \"Trabzonspor\" : 71}\n",
    "\n",
    "league_2022 = pd.Series(l1)\n",
    "league_2021 = pd.Series(l2)\n",
    "league_2020 = pd.Series(l3)\n",
    "\n",
    "total_points = league_2022 + league_2021 + league_2020\n",
    "\n",
    "print(total_points)"
   ]
  },
  {
   "cell_type": "code",
   "execution_count": null,
   "id": "f84f98b4",
   "metadata": {},
   "outputs": [],
   "source": []
  }
 ],
 "metadata": {
  "kernelspec": {
   "display_name": "Python 3 (ipykernel)",
   "language": "python",
   "name": "python3"
  },
  "language_info": {
   "codemirror_mode": {
    "name": "ipython",
    "version": 3
   },
   "file_extension": ".py",
   "mimetype": "text/x-python",
   "name": "python",
   "nbconvert_exporter": "python",
   "pygments_lexer": "ipython3",
   "version": "3.9.12"
  }
 },
 "nbformat": 4,
 "nbformat_minor": 5
}
