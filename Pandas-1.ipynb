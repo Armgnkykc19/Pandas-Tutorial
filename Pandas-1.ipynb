{
 "cells": [
  {
   "cell_type": "code",
   "execution_count": 1,
   "id": "cfd7950d",
   "metadata": {},
   "outputs": [],
   "source": [
    "# Pandas Nedir ?\n",
    "# --------------\n",
    "# Pandas; Açık Kaynaklı Bir Veri İşleme, Manipüle Etme, Temizleme Vb. İşlemleri Yapabildiğimiz Bir Kütüphanedir.\n",
    "# NumPy Kütüphanesi Üzerine Kurulmuş Bir Kütühanedir.\n",
    "# Pandas, Elimizdeki Veriyi Şekillendirip İşlememize Ve Veriden \"Anlamlı Sonuçlar\" Çıkarmamıza Olanak Sağlar.\n",
    "# Pandas Kütüphanesinin Temel Elemanları \"Series\" Ve \"DataFrame\"lerdir.\n",
    "# Series Ve DataFrame Nesneleri, Excel Tabloları Gibi Düşünülebilir."
   ]
  },
  {
   "cell_type": "code",
   "execution_count": 2,
   "id": "b40016d6",
   "metadata": {},
   "outputs": [],
   "source": [
    "# Pandas Import Etme\n",
    "# ------------------\n",
    "\n",
    "import numpy as np\n",
    "import pandas as pd "
   ]
  },
  {
   "cell_type": "code",
   "execution_count": 3,
   "id": "e7cde685",
   "metadata": {},
   "outputs": [
    {
     "data": {
      "text/plain": [
       "['Nihal', 'Ender', 'Yaren', 'Ecem', 'Armağan']"
      ]
     },
     "execution_count": 3,
     "metadata": {},
     "output_type": "execute_result"
    }
   ],
   "source": [
    "my_data = [\"Nihal\", \"Ender\", \"Yaren\", \"Ecem\", \"Armağan\"]\n",
    "my_data"
   ]
  },
  {
   "cell_type": "code",
   "execution_count": 4,
   "id": "fd81110c",
   "metadata": {},
   "outputs": [
    {
     "data": {
      "text/plain": [
       "0      Nihal\n",
       "1      Ender\n",
       "2      Yaren\n",
       "3       Ecem\n",
       "4    Armağan\n",
       "dtype: object"
      ]
     },
     "execution_count": 4,
     "metadata": {},
     "output_type": "execute_result"
    }
   ],
   "source": [
    "#pd.series() Fonksiyonu İle Elimizdeki Verileri Series Haline Getirebiliriz.\n",
    "pd.Series(my_data)"
   ]
  },
  {
   "cell_type": "code",
   "execution_count": 5,
   "id": "e68a177c",
   "metadata": {},
   "outputs": [
    {
     "data": {
      "text/plain": [
       "Türkiye    1923\n",
       "USA        1776\n",
       "Canada     1876\n",
       "dtype: int64"
      ]
     },
     "execution_count": 5,
     "metadata": {},
     "output_type": "execute_result"
    }
   ],
   "source": [
    "#Oluşturduğumuz Serilerin Index Yerlerinde Ve Değer Yerlerinde İstediğimiz Şeyleri Yazdırabiliriz.\n",
    "my_data2 = [1923, 1776, 1876]\n",
    "my_indexes = [\"Türkiye\", \"USA\", \"Canada\"]\n",
    "pd.Series(my_data2, my_indexes)"
   ]
  },
  {
   "cell_type": "code",
   "execution_count": 6,
   "id": "3998faf0",
   "metadata": {},
   "outputs": [
    {
     "data": {
      "text/plain": [
       "Türkiye    1923\n",
       "USA        1776\n",
       "Canada     1876\n",
       "dtype: int64"
      ]
     },
     "execution_count": 6,
     "metadata": {},
     "output_type": "execute_result"
    }
   ],
   "source": [
    "#Şu Şekilde De Gösterebiliriz.\n",
    "pd.Series(data = my_data2, index = my_indexes)"
   ]
  },
  {
   "cell_type": "code",
   "execution_count": 7,
   "id": "5a52f964",
   "metadata": {},
   "outputs": [
    {
     "data": {
      "text/plain": [
       "Nihal      56\n",
       "Ender      57\n",
       "Ecem       20\n",
       "Armağan    21\n",
       "dtype: int64"
      ]
     },
     "execution_count": 7,
     "metadata": {},
     "output_type": "execute_result"
    }
   ],
   "source": [
    "#pd.Series() Fonksiyonu, İçerisine Dictionary De Alabilir. Burada Key'ler Index, Value'lar İse Değer Yerine Geçer.\n",
    "my_dict = {\"Nihal\" : 56, \"Ender\" : 57, \"Ecem\" : 20, \"Armağan\": 21}\n",
    "pd.Series(data = my_dict)"
   ]
  },
  {
   "cell_type": "code",
   "execution_count": 8,
   "id": "f28ae339",
   "metadata": {},
   "outputs": [],
   "source": [
    "# Serilerde İşlemler"
   ]
  },
  {
   "cell_type": "code",
   "execution_count": 9,
   "id": "8467eeeb",
   "metadata": {},
   "outputs": [],
   "source": [
    "q1 = {\"Japan\" : 80, \"China\" : 450, \"Turkey\" : 150, \"India\" : 200}\n",
    "q2 = {\"Japan\" : 90, \"China\" : 420, \"Turkey\" : 230, \"India\" : 195}"
   ]
  },
  {
   "cell_type": "code",
   "execution_count": 10,
   "id": "8aa69d95",
   "metadata": {},
   "outputs": [],
   "source": [
    "sales_q1 = pd.Series(q1)"
   ]
  },
  {
   "cell_type": "code",
   "execution_count": 11,
   "id": "6b471e16",
   "metadata": {},
   "outputs": [],
   "source": [
    "sales_q2 = pd.Series(q2)"
   ]
  },
  {
   "cell_type": "code",
   "execution_count": 12,
   "id": "e8b777f5",
   "metadata": {},
   "outputs": [],
   "source": [
    "sales_total = sales_q1 + sales_q2 # Index Sayısı Aynı Olan İki Seri Toplanabilir Ve Çıkarılabilir.\n",
    "sales_difference = sales_q2 - sales_q1"
   ]
  },
  {
   "cell_type": "code",
   "execution_count": 13,
   "id": "0bf74a86",
   "metadata": {},
   "outputs": [
    {
     "name": "stdout",
     "output_type": "stream",
     "text": [
      "Japan     170\n",
      "China     870\n",
      "Turkey    380\n",
      "India     395\n",
      "dtype: int64\n",
      "Japan     10\n",
      "China    -30\n",
      "Turkey    80\n",
      "India     -5\n",
      "dtype: int64\n"
     ]
    }
   ],
   "source": [
    "print(sales_total)\n",
    "print(sales_difference)"
   ]
  },
  {
   "cell_type": "code",
   "execution_count": 14,
   "id": "ba9c6af1",
   "metadata": {},
   "outputs": [
    {
     "data": {
      "text/plain": [
       "Index(['Japan', 'China', 'Turkey', 'India'], dtype='object')"
      ]
     },
     "execution_count": 14,
     "metadata": {},
     "output_type": "execute_result"
    }
   ],
   "source": [
    "sales_total.index #.index Metodu İle Indekslere Bakabiliyoruz!"
   ]
  },
  {
   "cell_type": "code",
   "execution_count": 15,
   "id": "8ce2f0f8",
   "metadata": {},
   "outputs": [
    {
     "data": {
      "text/plain": [
       "Index(['Japan', 'China', 'Turkey', 'India'], dtype='object')"
      ]
     },
     "execution_count": 15,
     "metadata": {},
     "output_type": "execute_result"
    }
   ],
   "source": [
    "sales_total.keys() #.keys() , .index İle Aynı Mantıkta."
   ]
  },
  {
   "cell_type": "code",
   "execution_count": 16,
   "id": "b65b0cff",
   "metadata": {},
   "outputs": [
    {
     "data": {
      "text/plain": [
       "array([170, 870, 380, 395], dtype=int64)"
      ]
     },
     "execution_count": 16,
     "metadata": {},
     "output_type": "execute_result"
    }
   ],
   "source": [
    "sales_total.values #.values Metodu İle Değerlerimize Bakabiliyoruz."
   ]
  },
  {
   "cell_type": "code",
   "execution_count": 17,
   "id": "e1a7dc98",
   "metadata": {},
   "outputs": [
    {
     "name": "stdout",
     "output_type": "stream",
     "text": [
      "Japan      340\n",
      "China     1740\n",
      "Turkey     760\n",
      "India      790\n",
      "dtype: int64\n",
      "Japan     17.0\n",
      "China     87.0\n",
      "Turkey    38.0\n",
      "India     39.5\n",
      "dtype: float64\n"
     ]
    }
   ],
   "source": [
    "print(sales_total * 2 ) # Serilerin Değerleri Çarpılabilir Ve Bölünebilir.\n",
    "print(sales_total / 10)"
   ]
  },
  {
   "cell_type": "code",
   "execution_count": 18,
   "id": "851d4710",
   "metadata": {},
   "outputs": [],
   "source": [
    "q3 = {\"Japan\" : 80, \"China\" : 450, \"India\" : 150, \"USA\" : 200}\n",
    "q4 = {\"Brazil\" : 90, \"China\" : 420, \"India\" : 230, \"USA\" : 195}"
   ]
  },
  {
   "cell_type": "code",
   "execution_count": 19,
   "id": "78c6dc4a",
   "metadata": {},
   "outputs": [
    {
     "name": "stdout",
     "output_type": "stream",
     "text": [
      "Japan     80\n",
      "China    450\n",
      "India    150\n",
      "USA      200\n",
      "dtype: int64\n",
      "Brazil     90\n",
      "China     420\n",
      "India     230\n",
      "USA       195\n",
      "dtype: int64\n"
     ]
    }
   ],
   "source": [
    "sales_q3 = pd.Series(q3)\n",
    "sales_q4 = pd.Series(q4)\n",
    "\n",
    "print(sales_q3)\n",
    "print(sales_q4)"
   ]
  },
  {
   "cell_type": "code",
   "execution_count": 20,
   "id": "ddf09d7e",
   "metadata": {},
   "outputs": [
    {
     "name": "stdout",
     "output_type": "stream",
     "text": [
      "Brazil      NaN\n",
      "China     870.0\n",
      "India     380.0\n",
      "Japan       NaN\n",
      "USA       395.0\n",
      "dtype: float64\n"
     ]
    }
   ],
   "source": [
    "sales_total2 = sales_q3 + sales_q4 # Burada Çıktıda 2 Tane NaN Değeri Var , Bunun Sebebi Brazil Ve Japan Indekslerinin \n",
    "print(sales_total2)                # Her 2 Seride Olmaması. Diğerinde Olmadığı Ve Bilinemediği İçin NaN Değerler Döndü.\n",
    "                                   # Nan Değerlerini Farklı Değerlerle Değiştirebiliyoruz Veya Değer Yoksa Kendilerini De \n",
    "                                   # Yazdırabiliyoruz. N'asıl Yapıldığını Görelim."
   ]
  },
  {
   "cell_type": "code",
   "execution_count": 21,
   "id": "c2b67c51",
   "metadata": {},
   "outputs": [
    {
     "data": {
      "text/plain": [
       "Brazil     90.0\n",
       "China     870.0\n",
       "India     380.0\n",
       "Japan      80.0\n",
       "USA       395.0\n",
       "dtype: float64"
      ]
     },
     "execution_count": 21,
     "metadata": {},
     "output_type": "execute_result"
    }
   ],
   "source": [
    "sales_q3.add(sales_q4, fill_value = 0)"
   ]
  },
  {
   "cell_type": "code",
   "execution_count": 22,
   "id": "b1dd018e",
   "metadata": {},
   "outputs": [
    {
     "data": {
      "text/plain": [
       "dtype('int64')"
      ]
     },
     "execution_count": 22,
     "metadata": {},
     "output_type": "execute_result"
    }
   ],
   "source": [
    "sales_q3.dtype # Serinin Değerlerinin Tiplerini .dtype İle Görebiliyoruz."
   ]
  },
  {
   "cell_type": "code",
   "execution_count": 23,
   "id": "71298103",
   "metadata": {},
   "outputs": [],
   "source": [
    "# Dataframe Oluşturma:\n",
    "# --------------------\n",
    "# Dataframe'in İçinden Bir Ya Da Birden Fazla Column'u Seçme.\n",
    "# Dataframe'in İçinden Bir Ya Da Birden Fazla Row'u Seçme.\n",
    "# Dataframe'in İçine Bir Column Ya Da Row Ekleme.\n",
    "# pd.DataFrame() Fonksiyonu İle Bir Dataframe Oluşturabiliriz.\n",
    "# Bir Dataframe'de Column İsimleri, Indexler Ve Değerler Bulunur.\n",
    "# Column İsimleri Ve Indexler, Önceden Tanımlanmak Zorunda Değiller , Oralara Default Değerler (0, 1, 2...) Atanır.\n",
    "# Ancak Veriler (Değerler) Tanımlamak Zorundayız."
   ]
  },
  {
   "cell_type": "code",
   "execution_count": 24,
   "id": "f2846890",
   "metadata": {},
   "outputs": [
    {
     "data": {
      "text/plain": [
       "array([[98,  9, 66, 58],\n",
       "       [87, 59, 47, 21],\n",
       "       [45,  7,  1,  0],\n",
       "       [60, 98,  2, 74],\n",
       "       [77, 80, 85, 38]])"
      ]
     },
     "execution_count": 24,
     "metadata": {},
     "output_type": "execute_result"
    }
   ],
   "source": [
    "my_data3 = np.random.randint(0, 101, size = (5,4)) # Bu Şekilde, 2 Boyutlu, 5x4'lük Bir Array Oluşturduk.\n",
    "my_data3"
   ]
  },
  {
   "cell_type": "code",
   "execution_count": 25,
   "id": "f5ce2cb0",
   "metadata": {},
   "outputs": [
    {
     "data": {
      "text/html": [
       "<div>\n",
       "<style scoped>\n",
       "    .dataframe tbody tr th:only-of-type {\n",
       "        vertical-align: middle;\n",
       "    }\n",
       "\n",
       "    .dataframe tbody tr th {\n",
       "        vertical-align: top;\n",
       "    }\n",
       "\n",
       "    .dataframe thead th {\n",
       "        text-align: right;\n",
       "    }\n",
       "</style>\n",
       "<table border=\"1\" class=\"dataframe\">\n",
       "  <thead>\n",
       "    <tr style=\"text-align: right;\">\n",
       "      <th></th>\n",
       "      <th>0</th>\n",
       "      <th>1</th>\n",
       "      <th>2</th>\n",
       "      <th>3</th>\n",
       "    </tr>\n",
       "  </thead>\n",
       "  <tbody>\n",
       "    <tr>\n",
       "      <th>0</th>\n",
       "      <td>98</td>\n",
       "      <td>9</td>\n",
       "      <td>66</td>\n",
       "      <td>58</td>\n",
       "    </tr>\n",
       "    <tr>\n",
       "      <th>1</th>\n",
       "      <td>87</td>\n",
       "      <td>59</td>\n",
       "      <td>47</td>\n",
       "      <td>21</td>\n",
       "    </tr>\n",
       "    <tr>\n",
       "      <th>2</th>\n",
       "      <td>45</td>\n",
       "      <td>7</td>\n",
       "      <td>1</td>\n",
       "      <td>0</td>\n",
       "    </tr>\n",
       "    <tr>\n",
       "      <th>3</th>\n",
       "      <td>60</td>\n",
       "      <td>98</td>\n",
       "      <td>2</td>\n",
       "      <td>74</td>\n",
       "    </tr>\n",
       "    <tr>\n",
       "      <th>4</th>\n",
       "      <td>77</td>\n",
       "      <td>80</td>\n",
       "      <td>85</td>\n",
       "      <td>38</td>\n",
       "    </tr>\n",
       "  </tbody>\n",
       "</table>\n",
       "</div>"
      ],
      "text/plain": [
       "    0   1   2   3\n",
       "0  98   9  66  58\n",
       "1  87  59  47  21\n",
       "2  45   7   1   0\n",
       "3  60  98   2  74\n",
       "4  77  80  85  38"
      ]
     },
     "execution_count": 25,
     "metadata": {},
     "output_type": "execute_result"
    }
   ],
   "source": [
    "pd.DataFrame(my_data3) # Bu Şekilde De Dataframe Oluşturmuş Oluyoruz.\n",
    "                       # Soldaki 0, 1, 2, ... ; Row İsimleri İken Üsttekiler , Column İsimleri Olur.\n",
    "                       # Biz Dataframe'i Oluştururken Bunları Tanımlamadığımız İçin Default Değerler Atandı."
   ]
  },
  {
   "cell_type": "code",
   "execution_count": 26,
   "id": "de823bbe",
   "metadata": {},
   "outputs": [],
   "source": [
    "# Şimdi De Daha Anlamlı Bir Dataframe Oluşturalım.\n",
    "# 4 Ülkenin 3 Ay Boyunca Aylık Satışlarını Gösteren Bir Dataframe Yapalım.\n",
    "\n",
    "my_indexes2 = [\"TR\", \"BR\", \"USA\", \"RU\"]\n",
    "my_columns = [\"JAN\", \"FEB\", \"MAR\"]\n",
    "my_data4 = np.random.randint(0, 101, (4,3))"
   ]
  },
  {
   "cell_type": "code",
   "execution_count": 27,
   "id": "b45f9e74",
   "metadata": {},
   "outputs": [
    {
     "data": {
      "text/html": [
       "<div>\n",
       "<style scoped>\n",
       "    .dataframe tbody tr th:only-of-type {\n",
       "        vertical-align: middle;\n",
       "    }\n",
       "\n",
       "    .dataframe tbody tr th {\n",
       "        vertical-align: top;\n",
       "    }\n",
       "\n",
       "    .dataframe thead th {\n",
       "        text-align: right;\n",
       "    }\n",
       "</style>\n",
       "<table border=\"1\" class=\"dataframe\">\n",
       "  <thead>\n",
       "    <tr style=\"text-align: right;\">\n",
       "      <th></th>\n",
       "      <th>JAN</th>\n",
       "      <th>FEB</th>\n",
       "      <th>MAR</th>\n",
       "    </tr>\n",
       "  </thead>\n",
       "  <tbody>\n",
       "    <tr>\n",
       "      <th>TR</th>\n",
       "      <td>100</td>\n",
       "      <td>47</td>\n",
       "      <td>81</td>\n",
       "    </tr>\n",
       "    <tr>\n",
       "      <th>BR</th>\n",
       "      <td>68</td>\n",
       "      <td>59</td>\n",
       "      <td>63</td>\n",
       "    </tr>\n",
       "    <tr>\n",
       "      <th>USA</th>\n",
       "      <td>65</td>\n",
       "      <td>100</td>\n",
       "      <td>88</td>\n",
       "    </tr>\n",
       "    <tr>\n",
       "      <th>RU</th>\n",
       "      <td>52</td>\n",
       "      <td>27</td>\n",
       "      <td>61</td>\n",
       "    </tr>\n",
       "  </tbody>\n",
       "</table>\n",
       "</div>"
      ],
      "text/plain": [
       "     JAN  FEB  MAR\n",
       "TR   100   47   81\n",
       "BR    68   59   63\n",
       "USA   65  100   88\n",
       "RU    52   27   61"
      ]
     },
     "execution_count": 27,
     "metadata": {},
     "output_type": "execute_result"
    }
   ],
   "source": [
    "# Şimdi De Bunlarla Dataframe Oluşturalım.\n",
    "df1 = pd.DataFrame(data = my_data4, index = my_indexes2, columns = my_columns)\n",
    "df1"
   ]
  },
  {
   "cell_type": "code",
   "execution_count": 28,
   "id": "1309f481",
   "metadata": {},
   "outputs": [
    {
     "name": "stdout",
     "output_type": "stream",
     "text": [
      "<class 'pandas.core.frame.DataFrame'>\n",
      "Index: 4 entries, TR to RU\n",
      "Data columns (total 3 columns):\n",
      " #   Column  Non-Null Count  Dtype\n",
      "---  ------  --------------  -----\n",
      " 0   JAN     4 non-null      int32\n",
      " 1   FEB     4 non-null      int32\n",
      " 2   MAR     4 non-null      int32\n",
      "dtypes: int32(3)\n",
      "memory usage: 80.0+ bytes\n"
     ]
    }
   ],
   "source": [
    "df1.info() #.info() Metoduyla Dataframe'in İçindeki Tüm Column'ların Temel Bilgilerini Görebiliriz.\n",
    "           # Örneğin JAN Column'unda 4 Tane Non-null (0 Olmayan) Değer Olduğunu Görüyoruz."
   ]
  },
  {
   "cell_type": "code",
   "execution_count": 29,
   "id": "ba1185c8",
   "metadata": {},
   "outputs": [
    {
     "data": {
      "text/plain": [
       "Index(['TR', 'BR', 'USA', 'RU'], dtype='object')"
      ]
     },
     "execution_count": 29,
     "metadata": {},
     "output_type": "execute_result"
    }
   ],
   "source": [
    "df1.index #.index Metoduyla, Dataframe'in Indexlerini Görebiliyoruz."
   ]
  },
  {
   "cell_type": "code",
   "execution_count": 30,
   "id": "1fd250ac",
   "metadata": {},
   "outputs": [
    {
     "data": {
      "text/plain": [
       "Index(['GER', 'CAN', 'JP', 'IND'], dtype='object')"
      ]
     },
     "execution_count": 30,
     "metadata": {},
     "output_type": "execute_result"
    }
   ],
   "source": [
    "df1.index = [\"GER\", \"CAN\", \"JP\", \"IND\"] #Dataframe'in Indexleri Değiştirilebilir.\n",
    "df1.index"
   ]
  },
  {
   "cell_type": "code",
   "execution_count": 31,
   "id": "be04a01c",
   "metadata": {},
   "outputs": [
    {
     "data": {
      "text/plain": [
       "Index(['JAN', 'FEB', 'MAR'], dtype='object')"
      ]
     },
     "execution_count": 31,
     "metadata": {},
     "output_type": "execute_result"
    }
   ],
   "source": [
    "df1.columns #.columns Metoduyla, Dataframe'in Columnlarını Görebiliyoruz."
   ]
  },
  {
   "cell_type": "code",
   "execution_count": 32,
   "id": "e4dd651d",
   "metadata": {},
   "outputs": [
    {
     "data": {
      "text/plain": [
       "Index(['JUN', 'JULY', 'AUG'], dtype='object')"
      ]
     },
     "execution_count": 32,
     "metadata": {},
     "output_type": "execute_result"
    }
   ],
   "source": [
    "df1.columns = [\"JUN\", \"JULY\", \"AUG\"] #Dataframe'in Columnları Değiştirilebilir.\n",
    "df1.columns"
   ]
  },
  {
   "cell_type": "code",
   "execution_count": 33,
   "id": "f13b25b8",
   "metadata": {},
   "outputs": [
    {
     "data": {
      "text/html": [
       "<div>\n",
       "<style scoped>\n",
       "    .dataframe tbody tr th:only-of-type {\n",
       "        vertical-align: middle;\n",
       "    }\n",
       "\n",
       "    .dataframe tbody tr th {\n",
       "        vertical-align: top;\n",
       "    }\n",
       "\n",
       "    .dataframe thead th {\n",
       "        text-align: right;\n",
       "    }\n",
       "</style>\n",
       "<table border=\"1\" class=\"dataframe\">\n",
       "  <thead>\n",
       "    <tr style=\"text-align: right;\">\n",
       "      <th></th>\n",
       "      <th>JUN</th>\n",
       "      <th>JULY</th>\n",
       "      <th>AUG</th>\n",
       "    </tr>\n",
       "  </thead>\n",
       "  <tbody>\n",
       "    <tr>\n",
       "      <th>GER</th>\n",
       "      <td>100</td>\n",
       "      <td>47</td>\n",
       "      <td>81</td>\n",
       "    </tr>\n",
       "    <tr>\n",
       "      <th>CAN</th>\n",
       "      <td>68</td>\n",
       "      <td>59</td>\n",
       "      <td>63</td>\n",
       "    </tr>\n",
       "    <tr>\n",
       "      <th>JP</th>\n",
       "      <td>65</td>\n",
       "      <td>100</td>\n",
       "      <td>88</td>\n",
       "    </tr>\n",
       "    <tr>\n",
       "      <th>IND</th>\n",
       "      <td>52</td>\n",
       "      <td>27</td>\n",
       "      <td>61</td>\n",
       "    </tr>\n",
       "  </tbody>\n",
       "</table>\n",
       "</div>"
      ],
      "text/plain": [
       "     JUN  JULY  AUG\n",
       "GER  100    47   81\n",
       "CAN   68    59   63\n",
       "JP    65   100   88\n",
       "IND   52    27   61"
      ]
     },
     "execution_count": 33,
     "metadata": {},
     "output_type": "execute_result"
    }
   ],
   "source": [
    "df1"
   ]
  },
  {
   "cell_type": "markdown",
   "id": "348c257f",
   "metadata": {},
   "source": [
    "### HAZIR BİR DATA ÇAĞIRMAK"
   ]
  },
  {
   "cell_type": "code",
   "execution_count": 35,
   "id": "501a0ca6",
   "metadata": {},
   "outputs": [],
   "source": [
    "# Bir .csv Dosyası İndirmiştik, Onu Dataframe Olarak Okumayı Görelim:\n",
    "# .csv Dosya Formatını Okumak İçin. pd.read_csv() Metodunu Kullanıyoruz.\n",
    "# Bu Metodu Denediğimde Hata Aldığım İçin Dosya Yolunun Başına r(read) Koydum.\n",
    "# Dosyayla Aynı Dizindeysek, Metodun İçine Sadece Dosyanın Adını Vermemiz Yeterli.\n",
    "# Dosyayla Aynı Dizinde Değilsek, Metodun İçine O Dosyanın Path'ini Vermemiz Gerek."
   ]
  },
  {
   "cell_type": "code",
   "execution_count": 37,
   "id": "9181d023",
   "metadata": {},
   "outputs": [
    {
     "data": {
      "text/html": [
       "<div>\n",
       "<style scoped>\n",
       "    .dataframe tbody tr th:only-of-type {\n",
       "        vertical-align: middle;\n",
       "    }\n",
       "\n",
       "    .dataframe tbody tr th {\n",
       "        vertical-align: top;\n",
       "    }\n",
       "\n",
       "    .dataframe thead th {\n",
       "        text-align: right;\n",
       "    }\n",
       "</style>\n",
       "<table border=\"1\" class=\"dataframe\">\n",
       "  <thead>\n",
       "    <tr style=\"text-align: right;\">\n",
       "      <th></th>\n",
       "      <th>total_bill</th>\n",
       "      <th>tip</th>\n",
       "      <th>sex</th>\n",
       "      <th>smoker</th>\n",
       "      <th>day</th>\n",
       "      <th>time</th>\n",
       "      <th>size</th>\n",
       "      <th>price_per_person</th>\n",
       "      <th>Payer Name</th>\n",
       "      <th>CC Number</th>\n",
       "      <th>Payment ID</th>\n",
       "    </tr>\n",
       "  </thead>\n",
       "  <tbody>\n",
       "    <tr>\n",
       "      <th>0</th>\n",
       "      <td>16.99</td>\n",
       "      <td>1.01</td>\n",
       "      <td>Female</td>\n",
       "      <td>No</td>\n",
       "      <td>Sun</td>\n",
       "      <td>Dinner</td>\n",
       "      <td>2</td>\n",
       "      <td>8.49</td>\n",
       "      <td>Christy Cunningham</td>\n",
       "      <td>3560325168603410</td>\n",
       "      <td>Sun2959</td>\n",
       "    </tr>\n",
       "    <tr>\n",
       "      <th>1</th>\n",
       "      <td>10.34</td>\n",
       "      <td>1.66</td>\n",
       "      <td>Male</td>\n",
       "      <td>No</td>\n",
       "      <td>Sun</td>\n",
       "      <td>Dinner</td>\n",
       "      <td>3</td>\n",
       "      <td>3.45</td>\n",
       "      <td>Douglas Tucker</td>\n",
       "      <td>4478071379779230</td>\n",
       "      <td>Sun4608</td>\n",
       "    </tr>\n",
       "    <tr>\n",
       "      <th>2</th>\n",
       "      <td>21.01</td>\n",
       "      <td>3.50</td>\n",
       "      <td>Male</td>\n",
       "      <td>No</td>\n",
       "      <td>Sun</td>\n",
       "      <td>Dinner</td>\n",
       "      <td>3</td>\n",
       "      <td>7.00</td>\n",
       "      <td>Travis Walters</td>\n",
       "      <td>6011812112971322</td>\n",
       "      <td>Sun4458</td>\n",
       "    </tr>\n",
       "    <tr>\n",
       "      <th>3</th>\n",
       "      <td>23.68</td>\n",
       "      <td>3.31</td>\n",
       "      <td>Male</td>\n",
       "      <td>No</td>\n",
       "      <td>Sun</td>\n",
       "      <td>Dinner</td>\n",
       "      <td>2</td>\n",
       "      <td>11.84</td>\n",
       "      <td>Nathaniel Harris</td>\n",
       "      <td>4676137647685994</td>\n",
       "      <td>Sun5260</td>\n",
       "    </tr>\n",
       "    <tr>\n",
       "      <th>4</th>\n",
       "      <td>24.59</td>\n",
       "      <td>3.61</td>\n",
       "      <td>Female</td>\n",
       "      <td>No</td>\n",
       "      <td>Sun</td>\n",
       "      <td>Dinner</td>\n",
       "      <td>4</td>\n",
       "      <td>6.15</td>\n",
       "      <td>Tonya Carter</td>\n",
       "      <td>4832732618637221</td>\n",
       "      <td>Sun2251</td>\n",
       "    </tr>\n",
       "    <tr>\n",
       "      <th>...</th>\n",
       "      <td>...</td>\n",
       "      <td>...</td>\n",
       "      <td>...</td>\n",
       "      <td>...</td>\n",
       "      <td>...</td>\n",
       "      <td>...</td>\n",
       "      <td>...</td>\n",
       "      <td>...</td>\n",
       "      <td>...</td>\n",
       "      <td>...</td>\n",
       "      <td>...</td>\n",
       "    </tr>\n",
       "    <tr>\n",
       "      <th>239</th>\n",
       "      <td>29.03</td>\n",
       "      <td>5.92</td>\n",
       "      <td>Male</td>\n",
       "      <td>No</td>\n",
       "      <td>Sat</td>\n",
       "      <td>Dinner</td>\n",
       "      <td>3</td>\n",
       "      <td>9.68</td>\n",
       "      <td>Michael Avila</td>\n",
       "      <td>5296068606052842</td>\n",
       "      <td>Sat2657</td>\n",
       "    </tr>\n",
       "    <tr>\n",
       "      <th>240</th>\n",
       "      <td>27.18</td>\n",
       "      <td>2.00</td>\n",
       "      <td>Female</td>\n",
       "      <td>Yes</td>\n",
       "      <td>Sat</td>\n",
       "      <td>Dinner</td>\n",
       "      <td>2</td>\n",
       "      <td>13.59</td>\n",
       "      <td>Monica Sanders</td>\n",
       "      <td>3506806155565404</td>\n",
       "      <td>Sat1766</td>\n",
       "    </tr>\n",
       "    <tr>\n",
       "      <th>241</th>\n",
       "      <td>22.67</td>\n",
       "      <td>2.00</td>\n",
       "      <td>Male</td>\n",
       "      <td>Yes</td>\n",
       "      <td>Sat</td>\n",
       "      <td>Dinner</td>\n",
       "      <td>2</td>\n",
       "      <td>11.34</td>\n",
       "      <td>Keith Wong</td>\n",
       "      <td>6011891618747196</td>\n",
       "      <td>Sat3880</td>\n",
       "    </tr>\n",
       "    <tr>\n",
       "      <th>242</th>\n",
       "      <td>17.82</td>\n",
       "      <td>1.75</td>\n",
       "      <td>Male</td>\n",
       "      <td>No</td>\n",
       "      <td>Sat</td>\n",
       "      <td>Dinner</td>\n",
       "      <td>2</td>\n",
       "      <td>8.91</td>\n",
       "      <td>Dennis Dixon</td>\n",
       "      <td>4375220550950</td>\n",
       "      <td>Sat17</td>\n",
       "    </tr>\n",
       "    <tr>\n",
       "      <th>243</th>\n",
       "      <td>18.78</td>\n",
       "      <td>3.00</td>\n",
       "      <td>Female</td>\n",
       "      <td>No</td>\n",
       "      <td>Thur</td>\n",
       "      <td>Dinner</td>\n",
       "      <td>2</td>\n",
       "      <td>9.39</td>\n",
       "      <td>Michelle Hardin</td>\n",
       "      <td>3511451626698139</td>\n",
       "      <td>Thur672</td>\n",
       "    </tr>\n",
       "  </tbody>\n",
       "</table>\n",
       "<p>244 rows × 11 columns</p>\n",
       "</div>"
      ],
      "text/plain": [
       "     total_bill   tip     sex smoker   day    time  size  price_per_person  \\\n",
       "0         16.99  1.01  Female     No   Sun  Dinner     2              8.49   \n",
       "1         10.34  1.66    Male     No   Sun  Dinner     3              3.45   \n",
       "2         21.01  3.50    Male     No   Sun  Dinner     3              7.00   \n",
       "3         23.68  3.31    Male     No   Sun  Dinner     2             11.84   \n",
       "4         24.59  3.61  Female     No   Sun  Dinner     4              6.15   \n",
       "..          ...   ...     ...    ...   ...     ...   ...               ...   \n",
       "239       29.03  5.92    Male     No   Sat  Dinner     3              9.68   \n",
       "240       27.18  2.00  Female    Yes   Sat  Dinner     2             13.59   \n",
       "241       22.67  2.00    Male    Yes   Sat  Dinner     2             11.34   \n",
       "242       17.82  1.75    Male     No   Sat  Dinner     2              8.91   \n",
       "243       18.78  3.00  Female     No  Thur  Dinner     2              9.39   \n",
       "\n",
       "             Payer Name         CC Number Payment ID  \n",
       "0    Christy Cunningham  3560325168603410    Sun2959  \n",
       "1        Douglas Tucker  4478071379779230    Sun4608  \n",
       "2        Travis Walters  6011812112971322    Sun4458  \n",
       "3      Nathaniel Harris  4676137647685994    Sun5260  \n",
       "4          Tonya Carter  4832732618637221    Sun2251  \n",
       "..                  ...               ...        ...  \n",
       "239       Michael Avila  5296068606052842    Sat2657  \n",
       "240      Monica Sanders  3506806155565404    Sat1766  \n",
       "241          Keith Wong  6011891618747196    Sat3880  \n",
       "242        Dennis Dixon     4375220550950      Sat17  \n",
       "243     Michelle Hardin  3511451626698139    Thur672  \n",
       "\n",
       "[244 rows x 11 columns]"
      ]
     },
     "execution_count": 37,
     "metadata": {},
     "output_type": "execute_result"
    }
   ],
   "source": [
    "pd.read_csv(r\"C:\\Users\\HP\\Downloads\\tips.csv\")"
   ]
  },
  {
   "cell_type": "code",
   "execution_count": null,
   "id": "d249d3bd",
   "metadata": {},
   "outputs": [],
   "source": []
  }
 ],
 "metadata": {
  "kernelspec": {
   "display_name": "Python 3 (ipykernel)",
   "language": "python",
   "name": "python3"
  },
  "language_info": {
   "codemirror_mode": {
    "name": "ipython",
    "version": 3
   },
   "file_extension": ".py",
   "mimetype": "text/x-python",
   "name": "python",
   "nbconvert_exporter": "python",
   "pygments_lexer": "ipython3",
   "version": "3.9.12"
  }
 },
 "nbformat": 4,
 "nbformat_minor": 5
}
